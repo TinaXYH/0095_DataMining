{
 "cells": [
  {
   "cell_type": "code",
   "execution_count": 15,
   "id": "initial_id",
   "metadata": {
    "collapsed": true,
    "ExecuteTime": {
     "end_time": "2023-12-10T21:09:18.113610Z",
     "start_time": "2023-12-10T21:09:18.018714Z"
    }
   },
   "outputs": [
    {
     "data": {
      "text/plain": "            Date     HomeTeam       AwayTeam  FTHG  FTAG FTR  HTHG  HTAG HTR  \\\n0       19/08/00     Charlton       Man City   4.0   0.0   H   2.0   0.0   H   \n1       19/08/00      Chelsea       West Ham   4.0   2.0   H   1.0   0.0   H   \n2       19/08/00     Coventry  Middlesbrough   1.0   3.0   A   1.0   1.0   D   \n3       19/08/00        Derby    Southampton   2.0   2.0   D   1.0   2.0   A   \n4       19/08/00        Leeds        Everton   2.0   0.0   H   2.0   0.0   H   \n...          ...          ...            ...   ...   ...  ..   ...   ...  ..   \n8836  29/10/2023     West Ham        Everton   0.0   1.0   A   0.0   0.0   D   \n8837  29/10/2023  Aston Villa          Luton   3.0   1.0   H   1.0   0.0   H   \n8838  29/10/2023     Brighton         Fulham   1.0   1.0   D   1.0   0.0   H   \n8839  29/10/2023    Liverpool  Nott'm Forest   3.0   0.0   H   2.0   0.0   H   \n8840  29/10/2023   Man United       Man City   0.0   3.0   A   0.0   1.0   A   \n\n               Referee  ...   HC    AC    HF    AF   HY   AY   HR   AR  \\\n0           Rob Harris  ...  6.0   6.0  13.0  12.0  1.0  2.0  0.0  0.0   \n1        Graham Barber  ...  7.0   7.0  19.0  14.0  1.0  2.0  0.0  0.0   \n2         Barry Knight  ...  8.0   4.0  15.0  21.0  5.0  3.0  1.0  0.0   \n3          Andy D'Urso  ...  5.0   8.0  11.0  13.0  1.0  1.0  0.0  0.0   \n4     Dermot Gallagher  ...  6.0   4.0  21.0  20.0  1.0  3.0  0.0  0.0   \n...                ...  ...  ...   ...   ...   ...  ...  ...  ...  ...   \n8836         S Attwell  ...  4.0   3.0   7.0  11.0  4.0  1.0  0.0  0.0   \n8837          J Brooks  ...  6.0   4.0  11.0  10.0  3.0  2.0  0.0  0.0   \n8838       M Salisbury  ...  7.0   3.0  12.0   8.0  0.0  3.0  0.0  0.0   \n8839       C Salisbury  ...  8.0   3.0   9.0  13.0  2.0  3.0  0.0  0.0   \n8840         P Tierney  ...  7.0  12.0   9.0   4.0  4.0  1.0  0.0  0.0   \n\n          HomeElo      AwayElo  \n0     1500.000000  1500.000000  \n1     1500.000000  1500.000000  \n2     1500.000000  1500.000000  \n3     1500.000000  1500.000000  \n4     1500.000000  1500.000000  \n...           ...          ...  \n8836  1760.063825  1524.257614  \n8837  1569.364767  1484.013329  \n8838  1689.671042  1454.968736  \n8839  1678.597156  1834.557445  \n8840          NaN          NaN  \n\n[8841 rows x 24 columns]",
      "text/html": "<div>\n<style scoped>\n    .dataframe tbody tr th:only-of-type {\n        vertical-align: middle;\n    }\n\n    .dataframe tbody tr th {\n        vertical-align: top;\n    }\n\n    .dataframe thead th {\n        text-align: right;\n    }\n</style>\n<table border=\"1\" class=\"dataframe\">\n  <thead>\n    <tr style=\"text-align: right;\">\n      <th></th>\n      <th>Date</th>\n      <th>HomeTeam</th>\n      <th>AwayTeam</th>\n      <th>FTHG</th>\n      <th>FTAG</th>\n      <th>FTR</th>\n      <th>HTHG</th>\n      <th>HTAG</th>\n      <th>HTR</th>\n      <th>Referee</th>\n      <th>...</th>\n      <th>HC</th>\n      <th>AC</th>\n      <th>HF</th>\n      <th>AF</th>\n      <th>HY</th>\n      <th>AY</th>\n      <th>HR</th>\n      <th>AR</th>\n      <th>HomeElo</th>\n      <th>AwayElo</th>\n    </tr>\n  </thead>\n  <tbody>\n    <tr>\n      <th>0</th>\n      <td>19/08/00</td>\n      <td>Charlton</td>\n      <td>Man City</td>\n      <td>4.0</td>\n      <td>0.0</td>\n      <td>H</td>\n      <td>2.0</td>\n      <td>0.0</td>\n      <td>H</td>\n      <td>Rob Harris</td>\n      <td>...</td>\n      <td>6.0</td>\n      <td>6.0</td>\n      <td>13.0</td>\n      <td>12.0</td>\n      <td>1.0</td>\n      <td>2.0</td>\n      <td>0.0</td>\n      <td>0.0</td>\n      <td>1500.000000</td>\n      <td>1500.000000</td>\n    </tr>\n    <tr>\n      <th>1</th>\n      <td>19/08/00</td>\n      <td>Chelsea</td>\n      <td>West Ham</td>\n      <td>4.0</td>\n      <td>2.0</td>\n      <td>H</td>\n      <td>1.0</td>\n      <td>0.0</td>\n      <td>H</td>\n      <td>Graham Barber</td>\n      <td>...</td>\n      <td>7.0</td>\n      <td>7.0</td>\n      <td>19.0</td>\n      <td>14.0</td>\n      <td>1.0</td>\n      <td>2.0</td>\n      <td>0.0</td>\n      <td>0.0</td>\n      <td>1500.000000</td>\n      <td>1500.000000</td>\n    </tr>\n    <tr>\n      <th>2</th>\n      <td>19/08/00</td>\n      <td>Coventry</td>\n      <td>Middlesbrough</td>\n      <td>1.0</td>\n      <td>3.0</td>\n      <td>A</td>\n      <td>1.0</td>\n      <td>1.0</td>\n      <td>D</td>\n      <td>Barry Knight</td>\n      <td>...</td>\n      <td>8.0</td>\n      <td>4.0</td>\n      <td>15.0</td>\n      <td>21.0</td>\n      <td>5.0</td>\n      <td>3.0</td>\n      <td>1.0</td>\n      <td>0.0</td>\n      <td>1500.000000</td>\n      <td>1500.000000</td>\n    </tr>\n    <tr>\n      <th>3</th>\n      <td>19/08/00</td>\n      <td>Derby</td>\n      <td>Southampton</td>\n      <td>2.0</td>\n      <td>2.0</td>\n      <td>D</td>\n      <td>1.0</td>\n      <td>2.0</td>\n      <td>A</td>\n      <td>Andy D'Urso</td>\n      <td>...</td>\n      <td>5.0</td>\n      <td>8.0</td>\n      <td>11.0</td>\n      <td>13.0</td>\n      <td>1.0</td>\n      <td>1.0</td>\n      <td>0.0</td>\n      <td>0.0</td>\n      <td>1500.000000</td>\n      <td>1500.000000</td>\n    </tr>\n    <tr>\n      <th>4</th>\n      <td>19/08/00</td>\n      <td>Leeds</td>\n      <td>Everton</td>\n      <td>2.0</td>\n      <td>0.0</td>\n      <td>H</td>\n      <td>2.0</td>\n      <td>0.0</td>\n      <td>H</td>\n      <td>Dermot Gallagher</td>\n      <td>...</td>\n      <td>6.0</td>\n      <td>4.0</td>\n      <td>21.0</td>\n      <td>20.0</td>\n      <td>1.0</td>\n      <td>3.0</td>\n      <td>0.0</td>\n      <td>0.0</td>\n      <td>1500.000000</td>\n      <td>1500.000000</td>\n    </tr>\n    <tr>\n      <th>...</th>\n      <td>...</td>\n      <td>...</td>\n      <td>...</td>\n      <td>...</td>\n      <td>...</td>\n      <td>...</td>\n      <td>...</td>\n      <td>...</td>\n      <td>...</td>\n      <td>...</td>\n      <td>...</td>\n      <td>...</td>\n      <td>...</td>\n      <td>...</td>\n      <td>...</td>\n      <td>...</td>\n      <td>...</td>\n      <td>...</td>\n      <td>...</td>\n      <td>...</td>\n      <td>...</td>\n    </tr>\n    <tr>\n      <th>8836</th>\n      <td>29/10/2023</td>\n      <td>West Ham</td>\n      <td>Everton</td>\n      <td>0.0</td>\n      <td>1.0</td>\n      <td>A</td>\n      <td>0.0</td>\n      <td>0.0</td>\n      <td>D</td>\n      <td>S Attwell</td>\n      <td>...</td>\n      <td>4.0</td>\n      <td>3.0</td>\n      <td>7.0</td>\n      <td>11.0</td>\n      <td>4.0</td>\n      <td>1.0</td>\n      <td>0.0</td>\n      <td>0.0</td>\n      <td>1760.063825</td>\n      <td>1524.257614</td>\n    </tr>\n    <tr>\n      <th>8837</th>\n      <td>29/10/2023</td>\n      <td>Aston Villa</td>\n      <td>Luton</td>\n      <td>3.0</td>\n      <td>1.0</td>\n      <td>H</td>\n      <td>1.0</td>\n      <td>0.0</td>\n      <td>H</td>\n      <td>J Brooks</td>\n      <td>...</td>\n      <td>6.0</td>\n      <td>4.0</td>\n      <td>11.0</td>\n      <td>10.0</td>\n      <td>3.0</td>\n      <td>2.0</td>\n      <td>0.0</td>\n      <td>0.0</td>\n      <td>1569.364767</td>\n      <td>1484.013329</td>\n    </tr>\n    <tr>\n      <th>8838</th>\n      <td>29/10/2023</td>\n      <td>Brighton</td>\n      <td>Fulham</td>\n      <td>1.0</td>\n      <td>1.0</td>\n      <td>D</td>\n      <td>1.0</td>\n      <td>0.0</td>\n      <td>H</td>\n      <td>M Salisbury</td>\n      <td>...</td>\n      <td>7.0</td>\n      <td>3.0</td>\n      <td>12.0</td>\n      <td>8.0</td>\n      <td>0.0</td>\n      <td>3.0</td>\n      <td>0.0</td>\n      <td>0.0</td>\n      <td>1689.671042</td>\n      <td>1454.968736</td>\n    </tr>\n    <tr>\n      <th>8839</th>\n      <td>29/10/2023</td>\n      <td>Liverpool</td>\n      <td>Nott'm Forest</td>\n      <td>3.0</td>\n      <td>0.0</td>\n      <td>H</td>\n      <td>2.0</td>\n      <td>0.0</td>\n      <td>H</td>\n      <td>C Salisbury</td>\n      <td>...</td>\n      <td>8.0</td>\n      <td>3.0</td>\n      <td>9.0</td>\n      <td>13.0</td>\n      <td>2.0</td>\n      <td>3.0</td>\n      <td>0.0</td>\n      <td>0.0</td>\n      <td>1678.597156</td>\n      <td>1834.557445</td>\n    </tr>\n    <tr>\n      <th>8840</th>\n      <td>29/10/2023</td>\n      <td>Man United</td>\n      <td>Man City</td>\n      <td>0.0</td>\n      <td>3.0</td>\n      <td>A</td>\n      <td>0.0</td>\n      <td>1.0</td>\n      <td>A</td>\n      <td>P Tierney</td>\n      <td>...</td>\n      <td>7.0</td>\n      <td>12.0</td>\n      <td>9.0</td>\n      <td>4.0</td>\n      <td>4.0</td>\n      <td>1.0</td>\n      <td>0.0</td>\n      <td>0.0</td>\n      <td>NaN</td>\n      <td>NaN</td>\n    </tr>\n  </tbody>\n</table>\n<p>8841 rows × 24 columns</p>\n</div>"
     },
     "execution_count": 15,
     "metadata": {},
     "output_type": "execute_result"
    }
   ],
   "source": [
    "import pandas as pd\n",
    "import matplotlib.pyplot as plt\n",
    "import numpy as np\n",
    "import seaborn as sns\n",
    "from sklearn.preprocessing import LabelEncoder\n",
    "\n",
    "\n",
    "drive_mount = False\n",
    "if drive_mount:\n",
    "    from google.colab import drive\n",
    "    drive.mount('/content/drive/')\n",
    "    DATA_DIR = \"/content/drive/MyDrive/Colab_Notebooks/COMP0036/datasets\"\n",
    "    MODEL_DIR = \"/content/drive/MyDrive/Colab_Notebooks/COMP0036/models\"\n",
    "else:\n",
    "    DATA_DIR = \"../datasets\"\n",
    "    MODEL_DIR = \"../models\"\n",
    "EPL_TRAINING_DATA_CSV = DATA_DIR + \"/epl-training.csv\"\n",
    "EPL_TEST_DATA_CSV = DATA_DIR + \"/sample-submission.csv\"\n",
    "ELO_DATA_DIR = \"../processed_df/elo.csv\"\n",
    "\n",
    "# Read the CSV file\n",
    "epl_training_df = pd.read_csv(EPL_TRAINING_DATA_CSV)\n",
    "epl_test_df = pd.read_csv(EPL_TEST_DATA_CSV)\n",
    "elo_df = pd.read_csv(ELO_DATA_DIR)[['HomeElo', 'AwayElo']]\n",
    "epl_training_df = pd.concat([epl_training_df, elo_df], axis=1)\n",
    "epl_training_df"
   ]
  },
  {
   "cell_type": "code",
   "execution_count": 17,
   "outputs": [],
   "source": [
    "epl_training_df.drop(['Date', 'HomeTeam', 'AwayTeam', 'HTR', 'Referee', 'FTAG', 'FTHG', 'HTAG', 'HTHG'], axis=1, inplace=True)"
   ],
   "metadata": {
    "collapsed": false,
    "ExecuteTime": {
     "end_time": "2023-12-10T21:10:00.852135Z",
     "start_time": "2023-12-10T21:10:00.820703Z"
    }
   },
   "id": "311794db1fed9c59"
  },
  {
   "cell_type": "code",
   "execution_count": 18,
   "outputs": [
    {
     "name": "stdout",
     "output_type": "stream",
     "text": [
      "Logistic Regression CV Accuracy: 0.5669 (+/- 0.0277)\n",
      "Random Forest CV Accuracy: 0.5559 (+/- 0.0277)\n",
      "SVM CV Accuracy: 0.5643 (+/- 0.0227)\n"
     ]
    }
   ],
   "source": [
    "import pandas as pd\n",
    "from sklearn.model_selection import train_test_split, cross_val_score, StratifiedKFold\n",
    "from sklearn.linear_model import LogisticRegression\n",
    "from sklearn.ensemble import RandomForestClassifier\n",
    "from sklearn.svm import SVC\n",
    "from sklearn.preprocessing import LabelEncoder\n",
    "from sklearn.preprocessing import StandardScaler\n",
    "scaler = StandardScaler()\n",
    "\n",
    "USE_XGBOOST = False\n",
    "\n",
    "# Sample DataFrame\n",
    "df = epl_training_df.copy()\n",
    "\n",
    "# Drop rows with NaN values and explicitly create a new copy\n",
    "df = df.dropna()\n",
    "\n",
    "# Encode the 'FTR' column\n",
    "target_column = 'FTR'\n",
    "label_encoder = LabelEncoder()\n",
    "df[target_column] = label_encoder.fit_transform(df[target_column])  # W, D, L becomes 0, 1, 2\n",
    "\n",
    "# Features and Target\n",
    "X = df.drop(target_column, axis=1)\n",
    "# X = df.drop(['HomeElo', 'AwayElo'], axis=1)\n",
    "X = scaler.fit_transform(X)\n",
    "y = df[target_column]\n",
    "\n",
    "# Define 5-fold cross-validation\n",
    "kf = StratifiedKFold(n_splits=5, shuffle=True, random_state=42)\n",
    "\n",
    "# Logistic Regression Model with Cross-Validation\n",
    "logistic_model = LogisticRegression(multi_class='multinomial', solver='lbfgs')\n",
    "logistic_scores = cross_val_score(logistic_model, X, y, cv=kf, scoring='accuracy', n_jobs=-1)\n",
    "\n",
    "# Random Forest Classifier Model with Cross-Validation\n",
    "random_forest_model = RandomForestClassifier(random_state=42)\n",
    "forest_scores = cross_val_score(random_forest_model, X, y, cv=kf, scoring='accuracy', n_jobs=-1)\n",
    "\n",
    "# XGBoost Classifier Model with Cross-Validation\n",
    "if USE_XGBOOST:\n",
    "    from xgboost import XGBClassifier\n",
    "    xgboost_model = XGBClassifier(use_label_encoder=False, eval_metric='mlogloss')\n",
    "    xgboost_scores = cross_val_score(xgboost_model, X, y, cv=kf, scoring='accuracy', n_jobs=-1)\n",
    "\n",
    "\n",
    "# SVM Classifier Model with Cross-Validation\n",
    "svm_model = SVC(probability=True)\n",
    "svm_scores = cross_val_score(svm_model, X, y, cv=kf, scoring='accuracy', n_jobs=-1)\n",
    "\n",
    "\n",
    "# Displaying the results\n",
    "print(f\"Logistic Regression CV Accuracy: {logistic_scores.mean():.4f} (+/- {logistic_scores.std() * 2:.4f})\")\n",
    "print(f\"Random Forest CV Accuracy: {forest_scores.mean():.4f} (+/- {forest_scores.std() * 2:.4f})\")\n",
    "if USE_XGBOOST:\n",
    "    print(f\"XGBoost CV Accuracy: {xgboost_scores.mean():.4f} (+/- {xgboost_scores.std() * 2:.4f})\")\n",
    "print(f\"SVM CV Accuracy: {svm_scores.mean():.4f} (+/- {svm_scores.std() * 2:.4f})\")\n"
   ],
   "metadata": {
    "collapsed": false,
    "ExecuteTime": {
     "end_time": "2023-12-10T21:10:15.186121Z",
     "start_time": "2023-12-10T21:10:01.784758Z"
    }
   },
   "id": "b35922a1651b3e1a"
  },
  {
   "cell_type": "code",
   "execution_count": 9,
   "outputs": [
    {
     "name": "stdout",
     "output_type": "stream",
     "text": [
      "Model: Logistic Regression\n",
      "Accuracy: 0.583710407239819\n",
      "Classification Report:\n",
      "               precision    recall  f1-score   support\n",
      "\n",
      "           1       0.56      0.60      0.58       509\n",
      "           2       0.32      0.05      0.08       415\n",
      "           3       0.61      0.84      0.70       844\n",
      "\n",
      "    accuracy                           0.58      1768\n",
      "   macro avg       0.50      0.50      0.46      1768\n",
      "weighted avg       0.53      0.58      0.52      1768\n",
      "\n",
      "Model: Random Forest\n",
      "Accuracy: 0.5752262443438914\n",
      "Classification Report:\n",
      "               precision    recall  f1-score   support\n",
      "\n",
      "           1       0.56      0.57      0.56       509\n",
      "           2       0.31      0.13      0.18       415\n",
      "           3       0.62      0.80      0.70       844\n",
      "\n",
      "    accuracy                           0.58      1768\n",
      "   macro avg       0.50      0.50      0.48      1768\n",
      "weighted avg       0.53      0.58      0.54      1768\n",
      "Model: Support Vector Machine (SVM)\n",
      "Accuracy: 0.5938914027149321\n",
      "Classification Report:\n",
      "               precision    recall  f1-score   support\n",
      "\n",
      "           1       0.57      0.59      0.58       509\n",
      "           2       0.40      0.06      0.10       415\n",
      "           3       0.61      0.86      0.72       844\n",
      "\n",
      "    accuracy                           0.59      1768\n",
      "   macro avg       0.53      0.50      0.47      1768\n",
      "weighted avg       0.55      0.59      0.53      1768\n"
     ]
    }
   ],
   "source": [
    "# To predict and get probabilities\n",
    "# Example Elo ratings for prediction\n",
    "from sklearn.svm import SVC\n",
    "import pandas as pd\n",
    "if USE_XGBOOST:\n",
    "    from xgboost import XGBClassifier, plot_importance\n",
    "from sklearn.model_selection import train_test_split\n",
    "from sklearn.linear_model import LogisticRegression\n",
    "from sklearn.metrics import accuracy_score, classification_report\n",
    "from sklearn.preprocessing import StandardScaler\n",
    "scaler = StandardScaler()\n",
    "\n",
    "df = epl_training_df.copy()\n",
    "target_column = 'FTR'\n",
    "label_encoder = LabelEncoder()\n",
    "df[target_column] = label_encoder.fit_transform(df[target_column])\n",
    "df['FTR'] += 1\n",
    "\n",
    "# Specify the name of the target column\n",
    "target_column = 'FTR'  # Replace with the name of your target column\n",
    "\n",
    "# Features and Target\n",
    "X = df.drop(target_column, axis=1)\n",
    "# X = X[['HomeElo', 'AwayElo']]\n",
    "X = scaler.fit_transform(X)\n",
    "y = df[target_column]               # Target\n",
    "\n",
    "# Splitting the data into train and test sets\n",
    "X_train, X_test, y_train, y_test = train_test_split(X, y, test_size=0.2, shuffle=True)\n",
    "\n",
    "# Creating and training the logistic regression model\n",
    "logistic_model = LogisticRegression(multi_class='multinomial', solver='lbfgs', max_iter=1000, penalty='l2')\n",
    "logistic_model.fit(X_train, y_train)\n",
    "\n",
    "random_forest_model = RandomForestClassifier(random_state=42)\n",
    "random_forest_model.fit(X_train, y_train)\n",
    "\n",
    "svm_model = SVC(probability=True)  # Set probability to True if you need probability estimates\n",
    "svm_model.fit(X_train, y_train)\n",
    "\n",
    "# Creating and training the XGBoost model\n",
    "if USE_XGBOOST:\n",
    "    xgboost_model = XGBClassifier(use_label_encoder=False, eval_metric='logloss')\n",
    "    xgboost_model.fit(X_train, y_train)\n",
    "\n",
    "    # Plotting feature importance\n",
    "    plot_importance(xgboost_model)\n",
    "    plt.show()\n",
    "\n",
    "# Predicting on the test set\n",
    "y_pred = logistic_model.predict(X_test)\n",
    "\n",
    "# Evaluating the model\n",
    "accuracy = accuracy_score(y_test, y_pred)\n",
    "report = classification_report(y_test, y_pred, zero_division=1)\n",
    "\n",
    "print(\"Model: Logistic Regression\")\n",
    "print(\"Accuracy:\", accuracy)\n",
    "print(\"Classification Report:\\n\", report)\n",
    "\n",
    "y_pred = random_forest_model.predict(X_test)\n",
    "\n",
    "# Evaluating the model\n",
    "accuracy = accuracy_score(y_test, y_pred)\n",
    "report = classification_report(y_test, y_pred, zero_division=1)\n",
    "print(\"Model: Random Forest\")\n",
    "print(\"Accuracy:\", accuracy)\n",
    "print(\"Classification Report:\\n\", report)\n",
    "\n",
    "if USE_XGBOOST:\n",
    "    y_pred = xgboost_model.predict(X_test)\n",
    "\n",
    "    # Evaluating the model\n",
    "    accuracy = accuracy_score(y_test, y_pred)\n",
    "    report = classification_report(y_test, y_pred, zero_division=1)\n",
    "\n",
    "    print(\"Model: XGBoost\")\n",
    "    print(\"Accuracy:\", accuracy)\n",
    "    print(\"Classification Report:\\n\", report)\n",
    "\n",
    "# Predicting on the test set with SVM\n",
    "y_pred = svm_model.predict(X_test)\n",
    "\n",
    "# Evaluating the SVM model\n",
    "accuracy = accuracy_score(y_test, y_pred)\n",
    "report = classification_report(y_test, y_pred, zero_division=1)\n",
    "\n",
    "print(\"Model: Support Vector Machine (SVM)\")\n",
    "print(\"Accuracy:\", accuracy)\n",
    "print(\"Classification Report:\\n\", report)"
   ],
   "metadata": {
    "collapsed": false,
    "ExecuteTime": {
     "end_time": "2023-12-10T21:01:16.303562Z",
     "start_time": "2023-12-10T21:01:05.103356Z"
    }
   },
   "id": "a09d9097f95f4d38"
  },
  {
   "cell_type": "code",
   "execution_count": null,
   "outputs": [],
   "source": [],
   "metadata": {
    "collapsed": false
   },
   "id": "4e5b658a9ef2354a"
  }
 ],
 "metadata": {
  "kernelspec": {
   "display_name": "Python 3",
   "language": "python",
   "name": "python3"
  },
  "language_info": {
   "codemirror_mode": {
    "name": "ipython",
    "version": 2
   },
   "file_extension": ".py",
   "mimetype": "text/x-python",
   "name": "python",
   "nbconvert_exporter": "python",
   "pygments_lexer": "ipython2",
   "version": "2.7.6"
  }
 },
 "nbformat": 4,
 "nbformat_minor": 5
}
